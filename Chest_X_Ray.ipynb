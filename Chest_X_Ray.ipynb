{
  "nbformat": 4,
  "nbformat_minor": 0,
  "metadata": {
    "colab": {
      "name": "Chest X-Ray",
      "version": "0.3.2",
      "provenance": [],
      "include_colab_link": true
    },
    "kernelspec": {
      "name": "python3",
      "display_name": "Python 3"
    },
    "accelerator": "GPU"
  },
  "cells": [
    {
      "cell_type": "markdown",
      "metadata": {
        "id": "view-in-github",
        "colab_type": "text"
      },
      "source": [
        "<a href=\"https://colab.research.google.com/github/balling/ml-hackpack/blob/master/Chest_X_Ray.ipynb\" target=\"_parent\"><img src=\"https://colab.research.google.com/assets/colab-badge.svg\" alt=\"Open In Colab\"/></a>"
      ]
    },
    {
      "metadata": {
        "id": "f4261yNmzMcK",
        "colab_type": "text"
      },
      "cell_type": "markdown",
      "source": [
        ""
      ]
    },
    {
      "metadata": {
        "id": "fo9_rDVSCjUi",
        "colab_type": "text"
      },
      "cell_type": "markdown",
      "source": [
        "First, change your runtime to GPU so that the network is trained faster!\n",
        "\n",
        "TODO: add screenshots"
      ]
    },
    {
      "metadata": {
        "id": "ILN6ELoPYPai",
        "colab_type": "text"
      },
      "cell_type": "markdown",
      "source": [
        "Make sure you run the two cells below!"
      ]
    },
    {
      "metadata": {
        "id": "rfJG6fB3AZIp",
        "colab_type": "code",
        "colab": {
          "base_uri": "https://localhost:8080/",
          "height": 34
        },
        "cellView": "form",
        "outputId": "2943d151-03a6-49b4-b9bf-d1929667543c"
      },
      "cell_type": "code",
      "source": [
        "#@title Import the necessary libraries\n",
        "import os\n",
        "import numpy as np\n",
        "import pandas as pd\n",
        "from skimage.io import imread \n",
        "from keras.models import Sequential\n",
        "from keras.layers import Dense, Dropout, Activation, Flatten\n",
        "from keras.layers import Conv2D, MaxPooling2D\n",
        "from keras.utils import np_utils\n",
        "from keras.datasets import mnist\n",
        "from keras.utils import plot_model\n",
        "from numpy.random import seed\n",
        "from tensorflow import set_random_seed"
      ],
      "execution_count": 1,
      "outputs": [
        {
          "output_type": "stream",
          "text": [
            "Using TensorFlow backend.\n"
          ],
          "name": "stderr"
        }
      ]
    },
    {
      "metadata": {
        "id": "fXpvtf1HF5bs",
        "colab_type": "code",
        "colab": {
          "base_uri": "https://localhost:8080/",
          "height": 102
        },
        "cellView": "form",
        "outputId": "793febd2-66f1-4a60-da3e-ba8a2a4240db"
      },
      "cell_type": "code",
      "source": [
        "#@title Download the images\n",
        "!git clone https://github.com/balling/ml-hackpack.git"
      ],
      "execution_count": 2,
      "outputs": [
        {
          "output_type": "stream",
          "text": [
            "Cloning into 'ml-hackpack'...\n",
            "remote: Enumerating objects: 245, done.\u001b[K\n",
            "remote: Total 245 (delta 0), reused 0 (delta 0), pack-reused 245\u001b[K\n",
            "Receiving objects: 100% (245/245), 75.92 MiB | 18.06 MiB/s, done.\n",
            "Resolving deltas: 100% (15/15), done.\n"
          ],
          "name": "stdout"
        }
      ]
    },
    {
      "metadata": {
        "id": "K18a14SWEcpo",
        "colab_type": "code",
        "colab": {
          "base_uri": "https://localhost:8080/",
          "height": 428
        },
        "outputId": "01d03d2d-16fd-420e-86c5-c71092e709db"
      },
      "cell_type": "code",
      "source": [
        "\n",
        "seed(42)\n",
        "set_random_seed(42)\n",
        "\n",
        "NUM_IMG = 25\n",
        "\n",
        "def get_training_data(train_path, labels_path):\n",
        "\ttrain_images = []\n",
        "\ttrain_files = []\n",
        "\tfor filename in os.listdir(train_path):\n",
        "\t\tif filename.endswith(\".png\"):\n",
        "\t\t\ttrain_files.append(train_path + filename)\n",
        "\n",
        "\tfeatures = []\n",
        "\t\t\n",
        "\tfor i, train_file in enumerate(train_files):\n",
        "\t\t\tif i >= NUM_IMG: break\n",
        "\t\t\ttrain_image = imread(train_file, True)\n",
        "\t\t\tfeature_set = np.asarray(train_image)\n",
        "\t\t\tfeatures.append(feature_set)\n",
        "\n",
        "\tlabels_df = pd.read_csv(labels_path) #[\"Finding Labels\"]\n",
        "\tlabels_df = labels_df[\"Finding Labels\"]\n",
        "\tlabels = np.zeros(NUM_IMG) # 0 for no finding, 1 for finding.\n",
        "\n",
        "\t# loading all labels\n",
        "\tfor i in range(NUM_IMG):\n",
        "\t\tif (labels_df[i] == 'No Finding'):\n",
        "\t\t\tlabels[i] = 0\n",
        "\t\telse:\n",
        "\t\t\tlabels[i] = 1\n",
        "\timages = np.expand_dims(np.array(features), axis=3).astype('float32') / 255 # adding single channel\n",
        "\treturn images, labels\n",
        "\t\n",
        "X_train, y_train = get_training_data(\"ml-hackpack/data/train/\", \"ml-hackpack/data/train-labels.csv\")\n",
        "X_test, y_test = get_training_data(\"ml-hackpack/data/test/\", \"ml-hackpack/data/test-labels.csv\")\n",
        "\n",
        "model = Sequential()\n",
        "\n",
        "model.add(Conv2D(4, (3, 3), strides=(2,2), activation='relu', input_shape=(1024, 1024, 1), data_format='channels_last'))\n",
        "model.add(MaxPooling2D(pool_size=(2,2)))\n",
        "model.add(Conv2D(4, (3, 3), strides=(2,2), activation='relu'))\n",
        "# model.add(Dropout(0.25))\n",
        " \n",
        "model.add(Flatten())\n",
        "model.add(Dense(1024, activation='relu'))\n",
        "model.add(Dense(1, activation='sigmoid'))\n",
        " \n",
        "model.compile(loss='binary_crossentropy', optimizer='adam', metrics=['accuracy'])\n",
        " \n",
        "model.fit(X_train, y_train, batch_size=4, nb_epoch=10, verbose=1)\n",
        " \n",
        "score = model.evaluate(X_test, y_test, verbose=0)\n"
      ],
      "execution_count": 0,
      "outputs": [
        {
          "output_type": "stream",
          "text": [
            "WARNING:tensorflow:From /usr/local/lib/python3.6/dist-packages/tensorflow/python/framework/op_def_library.py:263: colocate_with (from tensorflow.python.framework.ops) is deprecated and will be removed in a future version.\n",
            "Instructions for updating:\n",
            "Colocations handled automatically by placer.\n",
            "WARNING:tensorflow:From /usr/local/lib/python3.6/dist-packages/tensorflow/python/ops/math_ops.py:3066: to_int32 (from tensorflow.python.ops.math_ops) is deprecated and will be removed in a future version.\n",
            "Instructions for updating:\n",
            "Use tf.cast instead.\n"
          ],
          "name": "stdout"
        },
        {
          "output_type": "stream",
          "text": [
            "/usr/local/lib/python3.6/dist-packages/ipykernel_launcher.py:51: UserWarning: The `nb_epoch` argument in `fit` has been renamed `epochs`.\n"
          ],
          "name": "stderr"
        },
        {
          "output_type": "stream",
          "text": [
            "Epoch 1/10\n",
            "25/25 [==============================] - 13s 501ms/step - loss: 0.6958 - acc: 0.4400\n",
            "Epoch 2/10\n",
            "25/25 [==============================] - 9s 359ms/step - loss: 0.6063 - acc: 1.0000\n",
            "Epoch 3/10\n",
            "25/25 [==============================] - 9s 355ms/step - loss: 0.3974 - acc: 0.9200\n",
            "Epoch 4/10\n",
            "25/25 [==============================] - 9s 360ms/step - loss: 0.2265 - acc: 0.8800\n",
            "Epoch 5/10\n",
            "25/25 [==============================] - 9s 359ms/step - loss: 0.0896 - acc: 1.0000\n",
            "Epoch 6/10\n",
            "25/25 [==============================] - 9s 353ms/step - loss: 0.0151 - acc: 1.0000\n",
            "Epoch 7/10\n",
            "25/25 [==============================] - 9s 356ms/step - loss: 0.0025 - acc: 1.0000\n",
            "Epoch 8/10\n",
            "24/25 [===========================>..] - ETA: 0s - loss: 8.0660e-04 - acc: 1.0000"
          ],
          "name": "stdout"
        }
      ]
    },
    {
      "metadata": {
        "id": "lTW5Jv0zFtrb",
        "colab_type": "code",
        "colab": {}
      },
      "cell_type": "code",
      "source": [
        ""
      ],
      "execution_count": 0,
      "outputs": []
    }
  ]
}