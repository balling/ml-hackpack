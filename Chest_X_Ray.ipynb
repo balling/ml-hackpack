{
  "nbformat": 4,
  "nbformat_minor": 0,
  "metadata": {
    "colab": {
      "name": "Chest X-Ray",
      "version": "0.3.2",
      "provenance": [],
      "include_colab_link": true
    },
    "kernelspec": {
      "name": "python3",
      "display_name": "Python 3"
    },
    "accelerator": "GPU"
  },
  "cells": [
    {
      "cell_type": "markdown",
      "metadata": {
        "id": "view-in-github",
        "colab_type": "text"
      },
      "source": [
        "<a href=\"https://colab.research.google.com/github/balling/ml-hackpack/blob/master/Chest_X_Ray.ipynb\" target=\"_parent\"><img src=\"https://colab.research.google.com/assets/colab-badge.svg\" alt=\"Open In Colab\"/></a>"
      ]
    },
    {
      "metadata": {
        "id": "eQPhtZvzVlxz",
        "colab_type": "text"
      },
      "cell_type": "markdown",
      "source": [
        "# A bit of setup"
      ]
    },
    {
      "metadata": {
        "id": "fo9_rDVSCjUi",
        "colab_type": "text"
      },
      "cell_type": "markdown",
      "source": [
        "First, change your runtime to GPU so that the network is trained faster.\n",
        "\n",
        "![dropdown](https://github.com/balling/ml-hackpack/raw/master/img/dropdown.png =400x) ![settings](https://github.com/balling/ml-hackpack/raw/master/img/settings.png =400x)"
      ]
    },
    {
      "metadata": {
        "id": "ILN6ELoPYPai",
        "colab_type": "text"
      },
      "cell_type": "markdown",
      "source": [
        "Then, make sure you run the two cells below!"
      ]
    },
    {
      "metadata": {
        "id": "rfJG6fB3AZIp",
        "colab_type": "code",
        "colab": {},
        "cellView": "form"
      },
      "cell_type": "code",
      "source": [
        "#@title Import the necessary libraries\n",
        "import os\n",
        "import numpy as np\n",
        "import pandas as pd\n",
        "from skimage.io import imread \n",
        "from keras.models import Sequential\n",
        "from keras.layers import Dense, Dropout, Activation, Flatten\n",
        "from keras.layers import Conv2D, MaxPooling2D\n",
        "from keras.utils import np_utils\n",
        "from keras.datasets import mnist\n",
        "from keras.utils import plot_model\n",
        "from numpy.random import seed\n",
        "from tensorflow import set_random_seed"
      ],
      "execution_count": 0,
      "outputs": []
    },
    {
      "metadata": {
        "id": "fXpvtf1HF5bs",
        "colab_type": "code",
        "colab": {},
        "cellView": "form"
      },
      "cell_type": "code",
      "source": [
        "#@title Download the images\n",
        "!git clone https://github.com/balling/ml-hackpack.git"
      ],
      "execution_count": 0,
      "outputs": []
    },
    {
      "metadata": {
        "id": "f4261yNmzMcK",
        "colab_type": "text"
      },
      "cell_type": "markdown",
      "source": [
        "# Expore Chest X-Ray Dataset\n"
      ]
    },
    {
      "metadata": {
        "id": "8sLT92WK_QcM",
        "colab_type": "text"
      },
      "cell_type": "markdown",
      "source": [
        "![xray](https://github.com/balling/ml-hackpack/blob/master/data/train/00000001_000.png?raw=true =300x)"
      ]
    },
    {
      "metadata": {
        "id": "tYZ35fx2NaPb",
        "colab_type": "code",
        "colab": {
          "base_uri": "https://localhost:8080/",
          "height": 153
        },
        "outputId": "25d48236-cbbd-483a-8ff8-47ec20c094f0"
      },
      "cell_type": "code",
      "source": [
        "image = imread('ml-hackpack/data/train/00000001_000.png', True)\n",
        "print(image.shape)\n",
        "print(image)"
      ],
      "execution_count": 10,
      "outputs": [
        {
          "output_type": "stream",
          "text": [
            "(1024, 1024)\n",
            "[[202 199 195 ...   5   2   0]\n",
            " [199 196 195 ...   5   2   0]\n",
            " [196 194 193 ...   5   2   0]\n",
            " ...\n",
            " [255 255 255 ...   0   0   0]\n",
            " [255 255 254 ...   0   0   0]\n",
            " [255 255 255 ...   0   0   0]]\n"
          ],
          "name": "stdout"
        }
      ]
    },
    {
      "metadata": {
        "id": "3jF89dxq_PH6",
        "colab_type": "text"
      },
      "cell_type": "markdown",
      "source": [
        "# Let's start building the model!"
      ]
    },
    {
      "metadata": {
        "id": "K18a14SWEcpo",
        "colab_type": "code",
        "colab": {
          "base_uri": "https://localhost:8080/",
          "height": 374
        },
        "outputId": "311d6cb2-5ddc-48a7-db68-dcb80db9b8d0"
      },
      "cell_type": "code",
      "source": [
        "seed(42)\n",
        "set_random_seed(42)\n",
        "\n",
        "NUM_IMG = 25\n",
        "\n",
        "def get_training_data(train_path, labels_path):\n",
        "\ttrain_images = []\n",
        "\ttrain_files = []\n",
        "\tfor filename in os.listdir(train_path):\n",
        "\t\tif filename.endswith(\".png\"):\n",
        "\t\t\ttrain_files.append(train_path + filename)\n",
        "\n",
        "\tfeatures = []\n",
        "\t\t\n",
        "\tfor i, train_file in enumerate(train_files):\n",
        "\t\t\tif i >= NUM_IMG: break\n",
        "\t\t\ttrain_image = imread(train_file, True)\n",
        "\t\t\tfeature_set = np.asarray(train_image)\n",
        "\t\t\tfeatures.append(feature_set)\n",
        "\n",
        "\tlabels_df = pd.read_csv(labels_path) #[\"Finding Labels\"]\n",
        "\tlabels_df = labels_df[\"Finding Labels\"]\n",
        "\tlabels = np.zeros(NUM_IMG) # 0 for no finding, 1 for finding.\n",
        "\n",
        "\t# loading all labels\n",
        "\tfor i in range(NUM_IMG):\n",
        "\t\tif (labels_df[i] == 'No Finding'):\n",
        "\t\t\tlabels[i] = 0\n",
        "\t\telse:\n",
        "\t\t\tlabels[i] = 1\n",
        "\timages = np.expand_dims(np.array(features), axis=3).astype('float32') / 255 # adding single channel\n",
        "\treturn images, labels\n",
        "\t\n",
        "X_train, y_train = get_training_data(\"ml-hackpack/data/train/\", \"ml-hackpack/data/train-labels.csv\")\n",
        "X_test, y_test = get_training_data(\"ml-hackpack/data/test/\", \"ml-hackpack/data/test-labels.csv\")\n",
        "\n",
        "model = Sequential()\n",
        "\n",
        "model.add(Conv2D(4, (3, 3), strides=(2,2), activation='relu', input_shape=(1024, 1024, 1), data_format='channels_last'))\n",
        "model.add(MaxPooling2D(pool_size=(2,2)))\n",
        "model.add(Conv2D(4, (3, 3), strides=(2,2), activation='relu'))\n",
        "model.add(Flatten())\n",
        "model.add(Dense(1024, activation='relu'))\n",
        "model.add(Dense(1, activation='sigmoid'))\n",
        " \n",
        "model.compile(loss='binary_crossentropy', optimizer='adam', metrics=['accuracy'])\n",
        " \n",
        "model.fit(X_train, y_train, batch_size=8, nb_epoch=10, verbose=1)\n",
        " \n",
        "score = model.evaluate(X_test, y_test, verbose=0)\n"
      ],
      "execution_count": 12,
      "outputs": [
        {
          "output_type": "stream",
          "text": [
            "/usr/local/lib/python3.6/dist-packages/ipykernel_launcher.py:48: UserWarning: The `nb_epoch` argument in `fit` has been renamed `epochs`.\n"
          ],
          "name": "stderr"
        },
        {
          "output_type": "stream",
          "text": [
            "Epoch 1/10\n",
            "25/25 [==============================] - 5s 218ms/step - loss: 0.6909 - acc: 0.6000\n",
            "Epoch 2/10\n",
            "25/25 [==============================] - 0s 18ms/step - loss: 0.5607 - acc: 0.9600\n",
            "Epoch 3/10\n",
            "25/25 [==============================] - 0s 18ms/step - loss: 0.3495 - acc: 0.9200\n",
            "Epoch 4/10\n",
            "25/25 [==============================] - 0s 18ms/step - loss: 0.1989 - acc: 1.0000\n",
            "Epoch 5/10\n",
            "25/25 [==============================] - 0s 18ms/step - loss: 0.0882 - acc: 1.0000\n",
            "Epoch 6/10\n",
            "25/25 [==============================] - 0s 18ms/step - loss: 0.0588 - acc: 1.0000\n",
            "Epoch 7/10\n",
            "25/25 [==============================] - 0s 18ms/step - loss: 0.0194 - acc: 1.0000\n",
            "Epoch 8/10\n",
            "25/25 [==============================] - 0s 18ms/step - loss: 0.0056 - acc: 1.0000\n",
            "Epoch 9/10\n",
            "25/25 [==============================] - 0s 18ms/step - loss: 0.0032 - acc: 1.0000\n",
            "Epoch 10/10\n",
            "25/25 [==============================] - 0s 18ms/step - loss: 0.0024 - acc: 1.0000\n"
          ],
          "name": "stdout"
        }
      ]
    },
    {
      "metadata": {
        "id": "lTW5Jv0zFtrb",
        "colab_type": "code",
        "colab": {}
      },
      "cell_type": "code",
      "source": [
        ""
      ],
      "execution_count": 0,
      "outputs": []
    }
  ]
}