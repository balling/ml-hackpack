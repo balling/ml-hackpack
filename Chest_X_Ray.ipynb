{
  "nbformat": 4,
  "nbformat_minor": 0,
  "metadata": {
    "colab": {
      "name": "Chest X-Ray",
      "version": "0.3.2",
      "provenance": [],
      "collapsed_sections": [],
      "include_colab_link": true
    },
    "kernelspec": {
      "name": "python3",
      "display_name": "Python 3"
    },
    "accelerator": "GPU"
  },
  "cells": [
    {
      "cell_type": "markdown",
      "metadata": {
        "id": "view-in-github",
        "colab_type": "text"
      },
      "source": [
        "<a href=\"https://colab.research.google.com/github/balling/ml-hackpack/blob/master/Chest_X_Ray.ipynb\" target=\"_parent\"><img src=\"https://colab.research.google.com/assets/colab-badge.svg\" alt=\"Open In Colab\"/></a>"
      ]
    },
    {
      "metadata": {
        "id": "eQPhtZvzVlxz",
        "colab_type": "text"
      },
      "cell_type": "markdown",
      "source": [
        "# A bit of setup"
      ]
    },
    {
      "metadata": {
        "id": "ILN6ELoPYPai",
        "colab_type": "text"
      },
      "cell_type": "markdown",
      "source": [
        "Make sure you run the two cells below!"
      ]
    },
    {
      "metadata": {
        "id": "rfJG6fB3AZIp",
        "colab_type": "code",
        "cellView": "both",
        "colab": {}
      },
      "cell_type": "code",
      "source": [
        "#@title Import the necessary libraries\n",
        "import os\n",
        "import numpy as np\n",
        "import pandas as pd\n",
        "from skimage.io import imread \n",
        "from keras.models import Sequential\n",
        "from keras.layers import Dense, Dropout, Activation, Flatten\n",
        "from keras.layers import Conv2D, MaxPooling2D\n",
        "from keras.utils import np_utils\n",
        "from keras.datasets import mnist\n",
        "from keras.utils import plot_model\n",
        "from numpy.random import seed\n",
        "from tensorflow import set_random_seed\n",
        "from IPython.core.display import Image, display"
      ],
      "execution_count": 0,
      "outputs": []
    },
    {
      "metadata": {
        "id": "fXpvtf1HF5bs",
        "colab_type": "code",
        "cellView": "form",
        "colab": {}
      },
      "cell_type": "code",
      "source": [
        "#@title Download the images\n",
        "!git clone https://github.com/balling/ml-hackpack.git"
      ],
      "execution_count": 0,
      "outputs": []
    },
    {
      "metadata": {
        "id": "f4261yNmzMcK",
        "colab_type": "text"
      },
      "cell_type": "markdown",
      "source": [
        "# Expore Chest X-Ray Dataset\n",
        "Choose an X-ray file from the dropdown, or pick a row from [here](https://github.com/balling/ml-hackpack/blob/master/data/train-labels.csv)"
      ]
    },
    {
      "metadata": {
        "id": "tYZ35fx2NaPb",
        "colab_type": "code",
        "colab": {},
        "cellView": "both"
      },
      "cell_type": "code",
      "source": [
        "xray_file = \"00000013_033.png\" #@param [\"00000013_004.png\", \"00000006_000.png\", \"00000009_000.png\", \"00000013_011.png\", \"00000013_039.png\", \"00000013_043.png\", \"00000013_033.png\"] {allow-input: true}\n",
        "image = imread('ml-hackpack/data/train/%s'% xray_file, True)\n",
        "display(Image(url= 'https://github.com/balling/ml-hackpack/blob/master/data/train/%s?raw=true' % xray_file, width=300))\n",
        "np.set_printoptions(edgeitems=10, linewidth=200)\n",
        "print(\"The computer sees a %d x %d array:\" % image.shape)\n",
        "print(image)"
      ],
      "execution_count": 0,
      "outputs": []
    },
    {
      "metadata": {
        "id": "hD89401igjfO",
        "colab_type": "text"
      },
      "cell_type": "markdown",
      "source": [
        "### ![question](https://upload.wikimedia.org/wikipedia/commons/thumb/d/d9/Icon-round-Question_mark.svg/400px-Icon-round-Question_mark.svg.png =30x) The numbers at each cell range from 0 to 255.  Can you guess what does 0 and 255 represent respectively?"
      ]
    },
    {
      "metadata": {
        "id": "3jF89dxq_PH6",
        "colab_type": "text"
      },
      "cell_type": "markdown",
      "source": [
        "# Let's start building the model!"
      ]
    },
    {
      "metadata": {
        "id": "SMLp0WRhipf8",
        "colab_type": "text"
      },
      "cell_type": "markdown",
      "source": [
        "### The following code reads in the images for training and testing:"
      ]
    },
    {
      "metadata": {
        "id": "K18a14SWEcpo",
        "colab_type": "code",
        "colab": {}
      },
      "cell_type": "code",
      "source": [
        "NUM_IMG = 100\n",
        "\n",
        "def get_training_data(train_path, labels_path):\n",
        "\ttrain_images = []\n",
        "\ttrain_files = []\n",
        "\tfor filename in os.listdir(train_path):\n",
        "\t\tif filename.endswith(\".png\"):\n",
        "\t\t\ttrain_files.append(train_path + filename)\n",
        "\n",
        "\tfeatures = []\n",
        "\t\t\n",
        "\tfor i, train_file in enumerate(train_files):\n",
        "\t\t\tif i >= NUM_IMG: break\n",
        "\t\t\ttrain_image = imread(train_file, True)\n",
        "\t\t\tfeature_set = np.asarray(train_image)\n",
        "\t\t\tfeatures.append(feature_set)\n",
        "\n",
        "\tlabels_df = pd.read_csv(labels_path) #[\"Finding Labels\"]\n",
        "\tlabels_df = labels_df[\"Finding Labels\"]\n",
        "\tlabels = np.zeros(NUM_IMG) # 0 for no finding, 1 for finding.\n",
        "\n",
        "\t# loading all labels\n",
        "\tfor i in range(NUM_IMG):\n",
        "\t\tif (labels_df[i] == 'No Finding'):\n",
        "\t\t\tlabels[i] = 0\n",
        "\t\telse:\n",
        "\t\t\tlabels[i] = 1\n",
        "\timages = np.expand_dims(np.array(features), axis=3).astype('float32') / 255 # adding single channel\n",
        "\treturn images, labels\n",
        "\t\n",
        "X_train, y_train = get_training_data(\"ml-hackpack/data/train/\", \"ml-hackpack/data/train-labels.csv\")\n",
        "X_test, y_test = get_training_data(\"ml-hackpack/data/test/\", \"ml-hackpack/data/test-labels.csv\")"
      ],
      "execution_count": 0,
      "outputs": []
    },
    {
      "metadata": {
        "id": "4jJVZa03ixY6",
        "colab_type": "text"
      },
      "cell_type": "markdown",
      "source": [
        "### Now construct our neural network\n",
        "\n",
        "\n",
        "---\n",
        "\n",
        "\n",
        "\n",
        "`model = Sequential()` means we are going to stack the layers (added below) one by one just like pancakes:\n",
        "\n",
        "![stack](https://live.staticflickr.com/7265/7548486620_1f0c65a58e_q_d.jpg)\n",
        "\n",
        "(image credit: [Crave Malay Mail](https://www.flickr.com/photos/cravemmail/7548486620/in/photostream/))\n",
        "\n",
        "---\n",
        "\n",
        "\n",
        "\n"
      ]
    },
    {
      "metadata": {
        "id": "lTW5Jv0zFtrb",
        "colab_type": "code",
        "colab": {}
      },
      "cell_type": "code",
      "source": [
        "# Some tricks to make sure each run is predictable for demonstration purpose\n",
        "seed(42)\n",
        "set_random_seed(42)\n",
        "\n",
        "# We are going to just stack layers on top one by one\n",
        "model = Sequential()\n",
        "\n",
        "# Add 2 dimensional convolution layer\n",
        "model.add(Conv2D(4, (3, 3), strides=(2,2), activation='relu', input_shape=(1024, 1024, 1), data_format='channels_last'))\n",
        "\n",
        "# Add 2 dimensional Max pool\n",
        "model.add(MaxPooling2D(pool_size=(2,2)))\n",
        "\n",
        "# Add Dropout with 5% probability\n",
        "model.add(Dropout(rate=0.05))\n",
        "\n",
        "# Add another 2 dimensional convolution layer\n",
        "model.add(Conv2D(4, (3, 3), strides=(2,2), activation='relu'))\n",
        "\n",
        "# Reshape the output and add two linear \n",
        "model.add(Flatten())\n",
        "model.add(Dense(1024, activation='relu'))\n",
        "model.add(Dense(1, activation='sigmoid'))\n",
        "\n",
        "model.compile(loss='binary_crossentropy', optimizer='adam', metrics=['accuracy'])\n",
        " \n",
        "# Start training the model with our training data set\n",
        "model.fit(X_train, y_train, batch_size=8, epochs=8, verbose=1)\n",
        "\n",
        "# Evaluate our model with new unseen data\n",
        "score = model.evaluate(X_test, y_test, verbose=0)\n",
        "print(\"The model diagnosed %d%% of the x-rays correctly!\" % (score[1]*100))"
      ],
      "execution_count": 0,
      "outputs": []
    },
    {
      "metadata": {
        "id": "Zy64R94MqIaJ",
        "colab_type": "text"
      },
      "cell_type": "markdown",
      "source": [
        "# Taking a closer look into what our model is predicting\n",
        "\n",
        "Choose an X-ray file from the dropdown, or pick a row from [here](https://github.com/balling/ml-hackpack/blob/master/data/test-labels.csv)"
      ]
    },
    {
      "metadata": {
        "id": "_sJ-LA8gnV3S",
        "colab_type": "code",
        "colab": {}
      },
      "cell_type": "code",
      "source": [
        "test_file = \"00000023_001.png\" #@param [\"00000023_002.png\", \"00000023_001.png\", \"00000023_004.png\", \"00000031_000.png\", \"00000030_000.png\", \"00000032_008.png\", \"00000032_009.png\"]\n",
        "labels_df = pd.read_csv(\"ml-hackpack/data/test-labels.csv\")\n",
        "image = imread('ml-hackpack/data/test/%s'% test_file, True)\n",
        "display(Image(url= 'https://github.com/balling/ml-hackpack/blob/master/data/test/%s?raw=true' % test_file, width=300))\n",
        "predictions = model.predict(np.expand_dims(np.expand_dims(image, axis=0), axis=3))\n",
        "expert=labels_df.loc[labels_df['Image Index'] == test_file, 'Finding Labels'].values[0]\n",
        "print('Our model thinks there is %.f%% chance that this person has lung diseases, whereas human expert diagnosis is %s' % (predictions[0]*100, expert))"
      ],
      "execution_count": 0,
      "outputs": []
    },
    {
      "metadata": {
        "id": "Nc9FYmh6L0w-",
        "colab_type": "text"
      },
      "cell_type": "markdown",
      "source": [
        "### ![question](https://upload.wikimedia.org/wikipedia/commons/thumb/d/d9/Icon-round-Question_mark.svg/400px-Icon-round-Question_mark.svg.png =30x) Do you think this is a good model for lung disease diagnosis?  Why or why not?"
      ]
    }
  ]
}